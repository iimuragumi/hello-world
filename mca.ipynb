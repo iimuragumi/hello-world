{
  "nbformat": 4,
  "nbformat_minor": 0,
  "metadata": {
    "colab": {
      "name": "Untitled14.ipynb",
      "provenance": [],
      "authorship_tag": "ABX9TyOCjTqWWcukp80CuzjyBgN7",
      "include_colab_link": true
    },
    "kernelspec": {
      "name": "python3",
      "display_name": "Python 3"
    }
  },
  "cells": [
    {
      "cell_type": "markdown",
      "metadata": {
        "id": "view-in-github",
        "colab_type": "text"
      },
      "source": [
        "<a href=\"https://colab.research.google.com/github/iimuragumi/hello-world/blob/master/mca.ipynb\" target=\"_parent\"><img src=\"https://colab.research.google.com/assets/colab-badge.svg\" alt=\"Open In Colab\"/></a>"
      ]
    },
    {
      "cell_type": "code",
      "metadata": {
        "id": "LXCj1LEMJTh_",
        "colab_type": "code",
        "colab": {}
      },
      "source": [
        "#correspondence analysis MCA\n",
        "import pandas as pd\n",
        "import numpy as np"
      ],
      "execution_count": 1,
      "outputs": []
    },
    {
      "cell_type": "code",
      "metadata": {
        "id": "h7L5ldrCJclB",
        "colab_type": "code",
        "colab": {}
      },
      "source": [
        "index = ['students','workers','households','sum']\n",
        "cols = ['uniqulo','GU','Beams','sum']\n",
        "values = np.array([10,25,30,65,35,25,15,75,10,35,10,55,55,85,55,195])\n",
        "dataset = pd.DataFrame(index = index,columns = cols ,data = values.reshape(4,4))\n",
        "dataset = dataset.iloc[:-1,:-1]"
      ],
      "execution_count": 21,
      "outputs": []
    },
    {
      "cell_type": "code",
      "metadata": {
        "id": "QLyirmwJKaDV",
        "colab_type": "code",
        "colab": {}
      },
      "source": [
        "# コレスポンデンス分析のライブラリ\n",
        "import mca\n",
        "# !pip install mca"
      ],
      "execution_count": 22,
      "outputs": []
    },
    {
      "cell_type": "code",
      "metadata": {
        "id": "uSbIAKhyJvyf",
        "colab_type": "code",
        "colab": {}
      },
      "source": [
        "mca_ben5 = mca.MCA(dataset, ncols=len(dataset.columns))"
      ],
      "execution_count": 23,
      "outputs": []
    },
    {
      "cell_type": "code",
      "metadata": {
        "id": "_NmEEmQiPjyA",
        "colab_type": "code",
        "colab": {
          "base_uri": "https://localhost:8080/",
          "height": 722
        },
        "outputId": "c8b2e214-da9c-4042-e9c4-d59594decde1"
      },
      "source": [
        "# 表頭の座標を書き出す\n",
        "result_row5 = pd.DataFrame(mca_ben5.fs_r(N=2))\n",
        "result_row5.index = list(dataset.index)\n",
        "\n",
        "# 表側の座標を書き出す\n",
        "result_col5 = pd.DataFrame(mca_ben5.fs_c(N=2))\n",
        "result_col5.index = list(dataset.columns)\n",
        "\n",
        "# 作図用ライブラリ\n",
        "import matplotlib.pyplot as plt\n",
        "%matplotlib inline\n",
        "import random as rnd\n",
        "\n",
        "# 図の設定（任意）\n",
        "plt.figure(figsize=(10,10))\n",
        "plt.rcParams[\"font.size\"] = 15\n",
        "\n",
        "# 表頭をプロット\n",
        "plt.scatter(result_col5[0], result_col5[1], s=100, marker=\"x\")\n",
        "# ラベル付け\n",
        "cnt = 0\n",
        "for label in list(result_col5.index):\n",
        "    r = rnd.random() * 0.1\n",
        "    plt.text(result_col5.iloc[cnt, 0]+r, result_col5.iloc[cnt, 1]+r, label)\n",
        "    plt.plot([result_col5.iloc[cnt, 0]+r, result_col5.iloc[cnt, 0]], [result_col5.iloc[cnt, 1]+r, result_col5.iloc[cnt, 1]])\n",
        "    cnt += 1\n",
        "\n",
        "# スコア確認\n",
        "result_col5\n",
        "\n",
        "# 表側をプロット\n",
        "plt.scatter(result_row5[0], result_row5[1], s=100, marker=\"x\")\n",
        "# ラベル付け\n",
        "cnt = 0\n",
        "for label in list(result_row5.index):\n",
        "    r = rnd.random() * 0.1\n",
        "    plt.text(result_row5.iloc[cnt, 0]+r, result_row5.iloc[cnt, 1]+r, label)\n",
        "    plt.plot([result_row5.iloc[cnt, 0]+r, result_row5.iloc[cnt, 0]], [result_row5.iloc[cnt, 1]+r, result_row5.iloc[cnt, 1]])\n",
        "    cnt += 1\n",
        "\n",
        "# スコア確認\n",
        "result_row5"
      ],
      "execution_count": 24,
      "outputs": [
        {
          "output_type": "execute_result",
          "data": {
            "text/html": [
              "<div>\n",
              "<style scoped>\n",
              "    .dataframe tbody tr th:only-of-type {\n",
              "        vertical-align: middle;\n",
              "    }\n",
              "\n",
              "    .dataframe tbody tr th {\n",
              "        vertical-align: top;\n",
              "    }\n",
              "\n",
              "    .dataframe thead th {\n",
              "        text-align: right;\n",
              "    }\n",
              "</style>\n",
              "<table border=\"1\" class=\"dataframe\">\n",
              "  <thead>\n",
              "    <tr style=\"text-align: right;\">\n",
              "      <th></th>\n",
              "      <th>0</th>\n",
              "      <th>1</th>\n",
              "    </tr>\n",
              "  </thead>\n",
              "  <tbody>\n",
              "    <tr>\n",
              "      <th>students</th>\n",
              "      <td>0.0</td>\n",
              "      <td>0.0</td>\n",
              "    </tr>\n",
              "    <tr>\n",
              "      <th>workers</th>\n",
              "      <td>0.0</td>\n",
              "      <td>0.0</td>\n",
              "    </tr>\n",
              "    <tr>\n",
              "      <th>households</th>\n",
              "      <td>0.0</td>\n",
              "      <td>0.0</td>\n",
              "    </tr>\n",
              "  </tbody>\n",
              "</table>\n",
              "</div>"
            ],
            "text/plain": [
              "              0    1\n",
              "students    0.0  0.0\n",
              "workers     0.0  0.0\n",
              "households  0.0  0.0"
            ]
          },
          "metadata": {
            "tags": []
          },
          "execution_count": 24
        },
        {
          "output_type": "display_data",
          "data": {
            "image/png": "[encoded data removed]",
            "text/plain": [
              "<Figure size 720x720 with 1 Axes>"
            ]
          },
          "metadata": {
            "tags": [],
            "needs_background": "light"
          }
        }
      ]
    },
    {
      "cell_type": "code",
      "metadata": {
        "id": "vZBAcw4OPyTM",
        "colab_type": "code",
        "colab": {}
      },
      "source": [
        ""
      ],
      "execution_count": null,
      "outputs": []
    }
  ]
}